{
 "cells": [
  {
   "cell_type": "markdown",
   "id": "1ed4f6f2",
   "metadata": {},
   "source": [
    "# Pandas EDA Cheat Sheet — Live Examples\n",
    "\n",
    "A hands‑on notebook to learn/recall the most useful **pandas** patterns for Exploratory Data Analysis (EDA).\n",
    "Run cells top‑to‑bottom; each section is self‑contained with small examples.\n",
    "\n",
    "**Contents**\n",
    "1. Setup\n",
    "2. Core Objects & Creation\n",
    "3. IO (Read/Write)\n",
    "4. Quick EDA Starters\n",
    "5. Selecting & Filtering\n",
    "6. Columns (Create/Rename/Drop/Reorder)\n",
    "7. Missing Values\n",
    "8. Types & Conversions\n",
    "9. Sorting, Dedup, Sampling\n",
    "10. Aggregation & GroupBy\n",
    "11. Pivoting/Crosstab/Reshape\n",
    "12. Joins & Concatenation\n",
    "13. Dates & Times\n",
    "14. String Operations\n",
    "15. Window Functions\n",
    "16. Binning & Ranking\n",
    "17. MultiIndex Essentials\n",
    "18. Outliers & Clipping\n",
    "19. Performance & Memory Tips\n",
    "20. EDA Starter Function\n",
    "21. Quick Plots\n",
    "22. Common Gotchas & Patterns\n",
    "\n",
    "> Tip: Use `Shift+Enter` to execute a cell.\n"
   ]
  },
  {
   "cell_type": "markdown",
   "id": "82031b95",
   "metadata": {},
   "source": [
    "## 1) Setup"
   ]
  },
  {
   "cell_type": "code",
   "execution_count": null,
   "id": "c1792998",
   "metadata": {},
   "outputs": [],
   "source": [
    "\n",
    "import pandas as pd\n",
    "import numpy as np\n",
    "import matplotlib.pyplot as plt\n",
    "\n",
    "# Display tweaks\n",
    "pd.set_option(\"display.max_rows\", 200)\n",
    "pd.set_option(\"display.max_columns\", 200)\n",
    "pd.set_option(\"display.float_format\", lambda v: f\"{v:,.3f}\")\n",
    "\n",
    "print(pd.__version__)\n"
   ]
  },
  {
   "cell_type": "markdown",
   "id": "7b0b07ee",
   "metadata": {},
   "source": [
    "### Create some reusable sample data"
   ]
  },
  {
   "cell_type": "code",
   "execution_count": null,
   "id": "693a1285",
   "metadata": {},
   "outputs": [],
   "source": [
    "\n",
    "# Deterministic random\n",
    "rng = np.random.default_rng(42)\n",
    "\n",
    "# A small 'facts' table with numeric + categorical + dates\n",
    "n = 200\n",
    "dates = pd.date_range(\"2024-01-01\", periods=n, freq=\"D\")\n",
    "cities = np.array([\"Mumbai\", \"Delhi\", \"Bengaluru\", \"Chennai\", \"Pune\"], dtype=object)\n",
    "labels = np.array(list(\"ABC\"), dtype=object)\n",
    "\n",
    "df = pd.DataFrame({\n",
    "    \"id\": np.arange(1, n+1),\n",
    "    \"date\": dates,\n",
    "    \"city\": rng.choice(cities, size=n),\n",
    "    \"label\": rng.choice(labels, size=n, p=[0.5, 0.3, 0.2]),\n",
    "    \"units\": rng.integers(1, 50, size=n),\n",
    "    \"price\": rng.normal(loc=100.0, scale=15.0, size=n).round(2)\n",
    "})\n",
    "df[\"revenue\"] = (df[\"units\"] * df[\"price\"]).round(2)\n",
    "\n",
    "# Create a small dimension table for joins\n",
    "dim_city = pd.DataFrame({\n",
    "    \"city\": cities,\n",
    "    \"region\": [\"West\", \"North\", \"South\", \"South\", \"West\"],\n",
    "    \"population_millions\": [12.5, 19.0, 13.1, 11.2, 7.1]\n",
    "})\n",
    "\n",
    "# Introduce some missing values and text noise\n",
    "df.loc[rng.choice(df.index, size=10, replace=False), \"price\"] = np.nan\n",
    "df.loc[rng.choice(df.index, size=5, replace=False), \"city\"] = None\n",
    "df.loc[rng.choice(df.index, size=5, replace=False), \"label\"] = None\n",
    "df.loc[rng.choice(df.index, size=5, replace=False), \"units\"] = np.nan\n",
    "\n",
    "df.head()\n"
   ]
  },
  {
   "cell_type": "markdown",
   "id": "abfff3a3",
   "metadata": {},
   "source": [
    "## 2) Core Objects & Creation"
   ]
  },
  {
   "cell_type": "code",
   "execution_count": null,
   "id": "f2878698",
   "metadata": {},
   "outputs": [],
   "source": [
    "\n",
    "# Series\n",
    "s = pd.Series([1, 2, 3], name=\"s\")\n",
    "display(s)\n",
    "\n",
    "# DataFrame from dict of lists\n",
    "df_basic = pd.DataFrame({\"A\": [1, 2, 3], \"B\": [\"x\", \"y\", \"z\"]})\n",
    "display(df_basic)\n",
    "\n",
    "# From list of dicts\n",
    "rows = [{\"id\": 1, \"val\": 10}, {\"id\": 2, \"val\": 20}]\n",
    "df_records = pd.DataFrame(rows)\n",
    "display(df_records)\n",
    "\n",
    "# From NumPy array\n",
    "arr = np.arange(12).reshape(3, 4)\n",
    "df_from_arr = pd.DataFrame(arr, columns=list(\"ABCD\"))\n",
    "display(df_from_arr)\n",
    "\n",
    "# Empty frame\n",
    "df_empty = pd.DataFrame(columns=[\"id\", \"name\", \"score\"])\n",
    "display(df_empty)\n"
   ]
  },
  {
   "cell_type": "markdown",
   "id": "652ad150",
   "metadata": {},
   "source": [
    "## 3) IO: Read & Write"
   ]
  },
  {
   "cell_type": "code",
   "execution_count": null,
   "id": "b616f6ad",
   "metadata": {},
   "outputs": [],
   "source": [
    "\n",
    "# Write our sample df to CSV and read it back\n",
    "csv_path = \"sample_sales.csv\"\n",
    "df.to_csv(csv_path, index=False)\n",
    "df_csv = pd.read_csv(csv_path, parse_dates=[\"date\"], dtype={\"id\": \"Int64\"})\n",
    "display(df_csv.head())\n",
    "\n",
    "# JSON records (lines)\n",
    "json_path = \"sample_sales.jsonl\"\n",
    "df.to_json(json_path, orient=\"records\", lines=True, date_format=\"iso\")\n",
    "df_json = pd.read_json(json_path, orient=\"records\", lines=True)\n",
    "display(df_json.head())\n",
    "\n",
    "print(f\"Saved example files to: {csv_path} and {json_path}\")\n"
   ]
  },
  {
   "cell_type": "markdown",
   "id": "edcb4671",
   "metadata": {},
   "source": [
    "## 4) Quick EDA Starters"
   ]
  },
  {
   "cell_type": "code",
   "execution_count": null,
   "id": "9a5a70b7",
   "metadata": {},
   "outputs": [],
   "source": [
    "\n",
    "display(df.shape)\n",
    "df.info()\n",
    "display(df.dtypes)\n",
    "display(df.head(5))\n",
    "display(df.tail(3))\n",
    "display(df.sample(5, random_state=0))\n",
    "\n",
    "display(df.describe(datetime_is_numeric=True))\n",
    "display(df.nunique())\n",
    "display(df.isna().sum())\n",
    "display(df.memory_usage(deep=True))\n",
    "\n",
    "# Correlation on numeric cols\n",
    "display(df.select_dtypes(\"number\").corr(numeric_only=True, method=\"pearson\"))\n"
   ]
  },
  {
   "cell_type": "code",
   "execution_count": null,
   "id": "a282f4fb",
   "metadata": {},
   "outputs": [],
   "source": [
    "\n",
    "# Column overview helper\n",
    "overview = pd.DataFrame({\n",
    "    \"dtype\": df.dtypes.astype(str),\n",
    "    \"n_unique\": df.nunique(),\n",
    "    \"%missing\": (df.isna().mean() * 100).round(2),\n",
    "})\n",
    "display(overview)\n"
   ]
  },
  {
   "cell_type": "markdown",
   "id": "1b53246c",
   "metadata": {},
   "source": [
    "## 5) Selecting & Filtering"
   ]
  },
  {
   "cell_type": "code",
   "execution_count": null,
   "id": "406715fa",
   "metadata": {},
   "outputs": [],
   "source": [
    "\n",
    "# Columns\n",
    "display(df[\"city\"].head())\n",
    "display(df[[\"date\", \"city\", \"revenue\"]].head())\n",
    "\n",
    "# Row/Column by label/position\n",
    "print(df.loc[5, \"city\"], df.iloc[5, 2])\n",
    "\n",
    "# Boolean filters\n",
    "mask = (df[\"units\"] > 25) & (df[\"city\"].isin([\"Mumbai\", \"Delhi\"]))\n",
    "display(df[mask].head())\n",
    "\n",
    "# query/eval\n",
    "display(df.query(\"units > 25 and city in ['Mumbai', 'Delhi']\").head())\n",
    "tmp = df.copy()\n",
    "tmp.eval(\"rev_per_unit = revenue / units\", inplace=True)\n",
    "display(tmp.head())\n"
   ]
  },
  {
   "cell_type": "markdown",
   "id": "aef5e7bc",
   "metadata": {},
   "source": [
    "## 6) Columns — Create, Rename, Drop, Reorder"
   ]
  },
  {
   "cell_type": "code",
   "execution_count": null,
   "id": "fd250eab",
   "metadata": {},
   "outputs": [],
   "source": [
    "\n",
    "tmp = df.copy()\n",
    "tmp[\"unit_bucket\"] = pd.cut(tmp[\"units\"], bins=[0,10,20,30,50], include_lowest=True)\n",
    "tmp = tmp.assign(gm=lambda d: (d[\"revenue\"] / d[\"units\"]).round(2))\n",
    "\n",
    "tmp = tmp.rename(columns={\"gm\": \"gross_margin\"})\n",
    "tmp = tmp.drop(columns=[\"unit_bucket\"])\n",
    "\n",
    "# Reorder with id/date first\n",
    "cols = [\"id\", \"date\", *[c for c in tmp.columns if c not in [\"id\",\"date\"]]]\n",
    "tmp = tmp[cols]\n",
    "display(tmp.head())\n"
   ]
  },
  {
   "cell_type": "markdown",
   "id": "9c7caa82",
   "metadata": {},
   "source": [
    "## 7) Missing Values"
   ]
  },
  {
   "cell_type": "code",
   "execution_count": null,
   "id": "4f39a481",
   "metadata": {},
   "outputs": [],
   "source": [
    "\n",
    "display(df.isna().sum())\n",
    "\n",
    "mfix = df.copy()\n",
    "mfix[\"units\"] = mfix[\"units\"].fillna(0)\n",
    "mfix[\"price\"] = mfix[\"price\"].ffill().bfill()\n",
    "mfix = mfix.dropna(subset=[\"city\"])  # drop rows where city is NA\n",
    "display(mfix.isna().sum())\n"
   ]
  },
  {
   "cell_type": "markdown",
   "id": "b3271f4d",
   "metadata": {},
   "source": [
    "## 8) Types & Conversions"
   ]
  },
  {
   "cell_type": "code",
   "execution_count": null,
   "id": "5b6511ed",
   "metadata": {},
   "outputs": [],
   "source": [
    "\n",
    "tmp = df.copy()\n",
    "tmp = tmp.astype({\"id\": \"Int64\"})\n",
    "tmp[\"date\"] = pd.to_datetime(tmp[\"date\"], errors=\"coerce\")\n",
    "tmp[\"city\"] = tmp[\"city\"].astype(\"category\")\n",
    "display(tmp.dtypes)\n",
    "\n",
    "num = tmp.select_dtypes(include=\"number\")\n",
    "obj = tmp.select_dtypes(include=\"object\")\n",
    "display(num.head(2))\n",
    "display(obj.head(2))\n",
    "\n",
    "# Categorical with explicit order\n",
    "tmp[\"label\"] = tmp[\"label\"].astype(\"category\")\n",
    "tmp[\"label\"] = tmp[\"label\"].cat.set_categories(list(\"ABC\"), ordered=True)\n",
    "display(tmp[[\"label\"]].head(5))\n"
   ]
  },
  {
   "cell_type": "markdown",
   "id": "82f08363",
   "metadata": {},
   "source": [
    "## 9) Sorting, Dedup, Sampling"
   ]
  },
  {
   "cell_type": "code",
   "execution_count": null,
   "id": "066ceae0",
   "metadata": {},
   "outputs": [],
   "source": [
    "\n",
    "tmp = df.sort_values([\"city\",\"revenue\"], ascending=[True, False])\n",
    "display(tmp.head())\n",
    "\n",
    "dupes = df.duplicated(subset=[\"date\", \"city\"], keep=\"first\")\n",
    "display(dupes.value_counts())\n",
    "\n",
    "deduped = df.drop_duplicates(subset=[\"date\", \"city\"], keep=\"last\")\n",
    "display(deduped.head())\n",
    "\n",
    "# Stratified sample: 10% per label (dropping NA labels)\n",
    "strat = (df.dropna(subset=[\"label\"])\n",
    "           .groupby(\"label\", group_keys=False)\n",
    "           .apply(lambda g: g.sample(frac=0.1, random_state=42)))\n",
    "display(strat.head())\n"
   ]
  },
  {
   "cell_type": "markdown",
   "id": "aa530c3b",
   "metadata": {},
   "source": [
    "## 10) Aggregation & GroupBy"
   ]
  },
  {
   "cell_type": "code",
   "execution_count": null,
   "id": "0f6aef9f",
   "metadata": {},
   "outputs": [],
   "source": [
    "\n",
    "display(df[\"units\"].sum())\n",
    "display(df[\"price\"].mean())\n",
    "display(df[\"label\"].value_counts(dropna=False))\n",
    "\n",
    "display(df.agg({\"units\": [\"min\",\"max\",\"mean\",\"median\"],\n",
    "                \"price\": [\"count\",\"nunique\"]}))\n",
    "\n",
    "g = df.groupby([\"city\", \"label\"], dropna=False, as_index=False)\n",
    "display(g[\"revenue\"].agg([\"count\",\"mean\",\"sum\",\"min\",\"max\"]).head())\n",
    "\n",
    "tmp = df.copy()\n",
    "tmp[\"rev_z\"] = tmp.groupby(\"city\")[\"revenue\"].transform(lambda x: (x - x.mean()) / x.std(ddof=0))\n",
    "tmp[\"city_avg_rev\"] = tmp.groupby(\"city\")[\"revenue\"].transform(\"mean\")\n",
    "display(tmp.head())\n"
   ]
  },
  {
   "cell_type": "markdown",
   "id": "7ca28192",
   "metadata": {},
   "source": [
    "## 11) Pivoting, Crosstab, Reshape"
   ]
  },
  {
   "cell_type": "code",
   "execution_count": null,
   "id": "d88775e4",
   "metadata": {},
   "outputs": [],
   "source": [
    "\n",
    "pt = pd.pivot_table(df, index=\"city\", columns=\"label\",\n",
    "                    values=\"revenue\", aggfunc=\"mean\", fill_value=0, margins=True)\n",
    "display(pt)\n",
    "\n",
    "ct = pd.crosstab(df[\"city\"], df[\"label\"], dropna=False)\n",
    "display(ct)\n",
    "\n",
    "long = df.melt(id_vars=[\"id\",\"city\"], value_vars=[\"units\",\"price\",\"revenue\"],\n",
    "               var_name=\"metric\", value_name=\"value\")\n",
    "display(long.head())\n",
    "\n",
    "wide = long.set_index([\"id\",\"metric\"]).unstack(\"metric\")\n",
    "display(wide.head())\n",
    "\n",
    "long2 = wide.stack(\"metric\").reset_index()\n",
    "display(long2.head())\n"
   ]
  },
  {
   "cell_type": "markdown",
   "id": "bb695239",
   "metadata": {},
   "source": [
    "## 12) Joins & Concatenation"
   ]
  },
  {
   "cell_type": "code",
   "execution_count": null,
   "id": "43613f66",
   "metadata": {},
   "outputs": [],
   "source": [
    "\n",
    "m = pd.merge(df, dim_city, on=\"city\", how=\"left\", indicator=True, validate=\"m:1\")\n",
    "display(m.head())\n",
    "display(m[\"_merge\"].value_counts())\n",
    "\n",
    "# Concatenate rows\n",
    "rows = pd.concat([df.head(3), df.tail(3)], axis=0, ignore_index=True)\n",
    "display(rows)\n",
    "\n",
    "# Concatenate columns (demo with a small selection)\n",
    "cols = pd.concat([df[[\"id\",\"city\"]].head(5).reset_index(drop=True),\n",
    "                  df[[\"units\",\"price\"]].head(5).reset_index(drop=True)], axis=1)\n",
    "display(cols)\n"
   ]
  },
  {
   "cell_type": "markdown",
   "id": "b6a40582",
   "metadata": {},
   "source": [
    "## 13) Dates & Times"
   ]
  },
  {
   "cell_type": "code",
   "execution_count": null,
   "id": "d081d45b",
   "metadata": {},
   "outputs": [],
   "source": [
    "\n",
    "tmp = df.copy()\n",
    "tmp[\"ts\"] = pd.to_datetime(tmp[\"date\"], utc=True)\n",
    "tmp[\"year\"] = tmp[\"ts\"].dt.year\n",
    "tmp[\"dow\"] = tmp[\"ts\"].dt.day_name()\n",
    "tmp[\"hour\"] = 9  # pretend business hour\n",
    "display(tmp[[\"ts\",\"year\",\"dow\",\"hour\"]].head())\n",
    "\n",
    "daily_rev = (tmp.set_index(\"ts\")\n",
    "               .resample(\"D\")[\"revenue\"]\n",
    "               .sum())\n",
    "display(daily_rev.head())\n"
   ]
  },
  {
   "cell_type": "markdown",
   "id": "072f1575",
   "metadata": {},
   "source": [
    "## 14) String Operations"
   ]
  },
  {
   "cell_type": "code",
   "execution_count": null,
   "id": "afc56818",
   "metadata": {},
   "outputs": [],
   "source": [
    "\n",
    "names = pd.Series([\"  Alice  \", \"Bob\", \"carol  \", None, \"AL-1234\"])\n",
    "display(names.str.len())\n",
    "display(names.str.lower().str.strip())\n",
    "display(names.str.contains(r\"^a\", case=False, na=False))\n",
    "display(names.str.replace(r\"\\s+\", \" \", regex=True))\n",
    "display(names.str.extract(r\"(\\d{4})\", expand=False))\n",
    "display(names.str.split(\"-\", n=1, expand=True))\n"
   ]
  },
  {
   "cell_type": "markdown",
   "id": "31879074",
   "metadata": {},
   "source": [
    "## 15) Window Functions (Rolling/Expanding/EWM)"
   ]
  },
  {
   "cell_type": "code",
   "execution_count": null,
   "id": "2216d67a",
   "metadata": {},
   "outputs": [],
   "source": [
    "\n",
    "tmp = df.sort_values(\"date\").copy()\n",
    "tmp[\"roll_mean_7\"] = tmp[\"revenue\"].rolling(window=7, min_periods=1).mean()\n",
    "tmp[\"roll_sum_30\"] = tmp[\"revenue\"].rolling(30, min_periods=5).sum()\n",
    "tmp[\"cum_mean\"] = tmp[\"revenue\"].expanding().mean()\n",
    "tmp[\"ema_0_2\"] = tmp[\"revenue\"].ewm(alpha=0.2, adjust=False).mean()\n",
    "display(tmp[[\"date\",\"revenue\",\"roll_mean_7\",\"roll_sum_30\",\"cum_mean\",\"ema_0_2\"]].head(12))\n"
   ]
  },
  {
   "cell_type": "markdown",
   "id": "a90dd884",
   "metadata": {},
   "source": [
    "## 16) Binning & Ranking"
   ]
  },
  {
   "cell_type": "code",
   "execution_count": null,
   "id": "8f51cccc",
   "metadata": {},
   "outputs": [],
   "source": [
    "\n",
    "tmp = df.copy()\n",
    "tmp[\"units_bin\"] = pd.cut(tmp[\"units\"], bins=[0,10,20,30,50], labels=[\"0-10\",\"11-20\",\"21-30\",\"31-50\"], include_lowest=True)\n",
    "tmp[\"rev_q\"] = pd.qcut(tmp[\"revenue\"], q=4, labels=[\"Q1\",\"Q2\",\"Q3\",\"Q4\"])\n",
    "tmp[\"rank_desc\"] = tmp[\"revenue\"].rank(method=\"dense\", ascending=False)\n",
    "display(tmp[[\"units\",\"units_bin\",\"revenue\",\"rev_q\",\"rank_desc\"]].head())\n"
   ]
  },
  {
   "cell_type": "markdown",
   "id": "3a8c8d04",
   "metadata": {},
   "source": [
    "## 17) MultiIndex Essentials"
   ]
  },
  {
   "cell_type": "code",
   "execution_count": null,
   "id": "dcf124d0",
   "metadata": {},
   "outputs": [],
   "source": [
    "\n",
    "mi = df.set_index([\"city\",\"date\"]).sort_index()\n",
    "# Select by tuple\n",
    "sample = mi.loc[mi.index[0]]\n",
    "display(sample.head(3))\n",
    "\n",
    "# Cross-section\n",
    "if \"Mumbai\" in mi.index.get_level_values(\"city\"):\n",
    "    display(mi.xs(\"Mumbai\", level=\"city\").head(3))\n",
    "\n",
    "# Swap, then reset\n",
    "mi2 = mi.swaplevel(\"city\",\"date\").sort_index()\n",
    "display(mi2.head(3))\n",
    "display(mi2.reset_index().head(3))\n"
   ]
  },
  {
   "cell_type": "markdown",
   "id": "19389e79",
   "metadata": {},
   "source": [
    "## 18) Outliers & Clipping"
   ]
  },
  {
   "cell_type": "code",
   "execution_count": null,
   "id": "a1f4fc16",
   "metadata": {},
   "outputs": [],
   "source": [
    "\n",
    "lo, hi = df[\"revenue\"].quantile([0.01, 0.99])\n",
    "tmp = df.copy()\n",
    "tmp[\"rev_clipped\"] = tmp[\"revenue\"].clip(lower=lo, upper=hi)\n",
    "\n",
    "z = (tmp[\"revenue\"] - tmp[\"revenue\"].mean()) / tmp[\"revenue\"].std(ddof=0)\n",
    "tmp[\"rev_outlier\"] = (z.abs() > 3)\n",
    "display(tmp[[\"revenue\",\"rev_clipped\",\"rev_outlier\"]].head(10))\n",
    "tmp[\"rev_outlier\"].value_counts()\n"
   ]
  },
  {
   "cell_type": "markdown",
   "id": "7134f9ac",
   "metadata": {},
   "source": [
    "## 19) Performance & Memory Tips"
   ]
  },
  {
   "cell_type": "code",
   "execution_count": null,
   "id": "5557e01c",
   "metadata": {},
   "outputs": [],
   "source": [
    "\n",
    "tmp = df.copy()\n",
    "num_cols = tmp.select_dtypes(include=\"number\").columns\n",
    "tmp[num_cols] = tmp[num_cols].apply(pd.to_numeric, downcast=\"integer\")\n",
    "tmp[num_cols] = tmp[num_cols].apply(pd.to_numeric, downcast=\"float\")\n",
    "before_mb = df.memory_usage(deep=True).sum() / (1024**2)\n",
    "after_mb  = tmp.memory_usage(deep=True).sum() / (1024**2)\n",
    "print(f\"Before: {before_mb:.3f} MB, After: {after_mb:.3f} MB\")\n",
    "\n",
    "# Make low-cardinality strings categorical\n",
    "tmp2 = df.copy()\n",
    "for c in tmp2.select_dtypes(include=\"object\").columns:\n",
    "    if tmp2[c].nunique(dropna=False) / len(tmp2) < 0.5:\n",
    "        tmp2[c] = tmp2[c].astype(\"category\")\n",
    "\n",
    "print(tmp2.dtypes)\n"
   ]
  },
  {
   "cell_type": "markdown",
   "id": "c4a9adb0",
   "metadata": {},
   "source": [
    "## 20) EDA Starter Function"
   ]
  },
  {
   "cell_type": "code",
   "execution_count": null,
   "id": "918dcf84",
   "metadata": {},
   "outputs": [],
   "source": [
    "\n",
    "def eda_overview(d):\n",
    "    out = {}\n",
    "    out[\"shape\"] = d.shape\n",
    "    out[\"dtypes\"] = d.dtypes.astype(str).to_dict()\n",
    "    out[\"missing_pct\"] = (d.isna().mean().round(3) * 100).to_dict()\n",
    "    out[\"nunique\"] = d.nunique().to_dict()\n",
    "    out[\"numeric_describe\"] = d.select_dtypes(\"number\").describe().round(3)\n",
    "    out[\"object_top_values\"] = {c: d[c].value_counts().head(5).to_dict()\n",
    "                                for c in d.select_dtypes(include=[\"object\",\"category\"]).columns}\n",
    "    return out\n",
    "\n",
    "summary = eda_overview(df)\n",
    "summary[\"shape\"], list(summary[\"dtypes\"].items())[:5]\n"
   ]
  },
  {
   "cell_type": "markdown",
   "id": "cf5f2c8e",
   "metadata": {},
   "source": [
    "## 21) Quick Plots (matplotlib via pandas)"
   ]
  },
  {
   "cell_type": "code",
   "execution_count": null,
   "id": "b917f090",
   "metadata": {},
   "outputs": [],
   "source": [
    "\n",
    "# Histogram\n",
    "df[\"revenue\"].hist(bins=30); plt.title(\"Revenue\"); plt.xlabel(\"Revenue\"); plt.ylabel(\"Frequency\"); plt.show()\n"
   ]
  },
  {
   "cell_type": "code",
   "execution_count": null,
   "id": "fc8aa29c",
   "metadata": {},
   "outputs": [],
   "source": [
    "\n",
    "# Boxplot by group\n",
    "df.boxplot(column=\"revenue\", by=\"city\", rot=45); plt.tight_layout(); plt.suptitle(\"\"); plt.title(\"Revenue by City\"); plt.show()\n"
   ]
  },
  {
   "cell_type": "code",
   "execution_count": null,
   "id": "84d4bb4e",
   "metadata": {},
   "outputs": [],
   "source": [
    "\n",
    "# Scatter\n",
    "df.plot(kind=\"scatter\", x=\"units\", y=\"price\"); plt.title(\"Units vs Price\"); plt.show()\n"
   ]
  },
  {
   "cell_type": "code",
   "execution_count": null,
   "id": "d283a1fe",
   "metadata": {},
   "outputs": [],
   "source": [
    "\n",
    "# KDE\n",
    "df[\"price\"].plot(kind=\"kde\"); plt.title(\"Price Density\"); plt.xlabel(\"Price\"); plt.show()\n"
   ]
  },
  {
   "cell_type": "markdown",
   "id": "fc3f7a60",
   "metadata": {},
   "source": [
    "## 22) Common Gotchas & Patterns\n",
    "\n",
    "- **SettingWithCopy**: prefer `df.loc[mask, \"col\"] = value` (avoid chained indexing).\n",
    "- **Mixed dtypes**: clean strings like `\"1,234\"` via `str.replace(\",\", \"\")` then `pd.to_numeric(..., errors=\"coerce\")`.\n",
    "- **Dates**: always `pd.to_datetime(..., errors=\"coerce\")` and check `isna()` after.\n",
    "- **Duplicate keys before join**: use `validate=\"1:1\"` or `validate=\"m:1\"` in `merge` to catch surprises.\n",
    "- **Large CSVs**: use `usecols=`, `dtype=`, `parse_dates=`, `chunksize=`, or prefer **Parquet** for speed/size.\n",
    "- **Categoricals**: for low‑cardinality strings to save memory & speed up `groupby`/`merge`.\n",
    "- **Vectorize**: prefer vectorized ops (`.map`, `.merge`, `.assign`, `.eval`) instead of Python loops.\n"
   ]
  },
  {
   "cell_type": "markdown",
   "id": "bee3cc17",
   "metadata": {},
   "source": [
    "_Generated on 2025-09-13 15:16:47_"
   ]
  }
 ],
 "metadata": {},
 "nbformat": 4,
 "nbformat_minor": 5
}
